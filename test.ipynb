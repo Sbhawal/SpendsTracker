{
 "cells": [
  {
   "cell_type": "code",
   "execution_count": 1,
   "metadata": {},
   "outputs": [
    {
     "name": "stdout",
     "output_type": "stream",
     "text": [
      "gmail v1 service created successfully\n"
     ]
    }
   ],
   "source": [
    "from app.LabelHandler import *\n",
    "from app.conditionManager import *"
   ]
  },
  {
   "cell_type": "code",
   "execution_count": 2,
   "metadata": {},
   "outputs": [],
   "source": [
    "# scrape_Emails()"
   ]
  },
  {
   "cell_type": "code",
   "execution_count": 2,
   "metadata": {},
   "outputs": [],
   "source": []
  },
  {
   "cell_type": "code",
   "execution_count": 2,
   "metadata": {},
   "outputs": [
    {
     "data": {
      "text/plain": [
       "'ATTACHMENT {True} SUBJECT {for XXXXXXXX3115} LABEL {BankStatements/ICICI} PASSWORD {sneh1612}\\n'"
      ]
     },
     "execution_count": 2,
     "metadata": {},
     "output_type": "execute_result"
    }
   ],
   "source": [
    "CONDITION = CONDITIONS[1]\n",
    "CONDITION"
   ]
  },
  {
   "cell_type": "code",
   "execution_count": null,
   "metadata": {},
   "outputs": [
    {
     "name": "stdout",
     "output_type": "stream",
     "text": [
      "SELECT * FROM emails WHERE SUBJECT LIKE '%Flipkart Axis Bank Credit Card Statement%' AND LABEL NOT LIKE '%CC/AXIS/Flipkart%'\n"
     ]
    },
    {
     "name": "stderr",
     "output_type": "stream",
     "text": [
      " 12%|█▎        | 2/16 [00:04<00:32,  2.29s/it]"
     ]
    }
   ],
   "source": [
    "for CONDITION in CONDITIONS:\n",
    "    Process_Condition(CONDITION)    "
   ]
  },
  {
   "cell_type": "code",
   "execution_count": 4,
   "metadata": {},
   "outputs": [
    {
     "data": {
      "text/plain": [
       "[('18bb201db84bbc92',\n",
       "  '18bb201db84bbc92',\n",
       "  'Thu, 9 Nov 2023 08:25:10 +0530 (IST)',\n",
       "  'ebill@airtel.com',\n",
       "  \"Bill for your Airtel Mobile 84205XXXXX - November'23\",\n",
       "  '<Text body not available>',\n",
       "  '1',\n",
       "  'STARRED, CATEGORY_UPDATES, INBOX'),\n",
       " ('18c4c928079a40af',\n",
       "  '18c4c928079a40af',\n",
       "  'Sat, 9 Dec 2023 08:44:57 +0530 (IST)',\n",
       "  'ebill@airtel.com',\n",
       "  \"Bill for your Airtel Mobile 84205XXXXX - December'23\",\n",
       "  '<Text body not available>',\n",
       "  '1',\n",
       "  'STARRED, CATEGORY_UPDATES, INBOX'),\n",
       " ('18ceb84ca5d148a2',\n",
       "  '18ceb84ca5d148a2',\n",
       "  'Tue, 9 Jan 2024 05:29:13 +0530 (IST)',\n",
       "  'ebill@airtel.com',\n",
       "  \"Bill for your Airtel Mobile 84205XXXXX - January'24\",\n",
       "  '<Text body not available>',\n",
       "  '1',\n",
       "  'CATEGORY_UPDATES, INBOX'),\n",
       " ('18d64983fa3d1e7f',\n",
       "  '18d64983fa3d1e7f',\n",
       "  'Thu, 1 Feb 2024 17:44:55 +0530 (IST)',\n",
       "  'ebill@airtel.com',\n",
       "  \"Bill for your Airtel Mobile 84205XXXXX - January'24\",\n",
       "  '<Text body not available>',\n",
       "  '1',\n",
       "  'STARRED, CATEGORY_UPDATES, INBOX'),\n",
       " ('18d8b3c78f31d196',\n",
       "  '18d8b3c78f31d196',\n",
       "  'Fri, 9 Feb 2024 05:43:39 +0530 (IST)',\n",
       "  'ebill@airtel.com',\n",
       "  \"Bill for your Airtel Mobile 84205XXXXX - February'24\",\n",
       "  '<Text body not available>',\n",
       "  '1',\n",
       "  'CATEGORY_UPDATES, INBOX'),\n",
       " ('18dc869ee12bc0ab',\n",
       "  '18dc869ee12bc0ab',\n",
       "  'Wed, 21 Feb 2024 02:52:40 +0530 (IST)',\n",
       "  'ebill@airtel.com',\n",
       "  \"Bill for your Airtel Mobile 84205XXXXX - February'24\",\n",
       "  '<Text body not available>',\n",
       "  '1',\n",
       "  'STARRED, CATEGORY_UPDATES, INBOX'),\n",
       " ('18e5db61564d0bf5',\n",
       "  '18e5db61564d0bf5',\n",
       "  'Thu, 21 Mar 2024 02:43:01 +0530 (IST)',\n",
       "  'ebill@airtel.com',\n",
       "  \"Bill for your Airtel Mobile 84205XXXXX - March'24\",\n",
       "  '<Text body not available>',\n",
       "  '1',\n",
       "  'IMPORTANT, CATEGORY_UPDATES, INBOX'),\n",
       " ('18efd613a7e1e49a',\n",
       "  '18efd613a7e1e49a',\n",
       "  'Sun, 21 Apr 2024 02:49:36 +0530 (IST)',\n",
       "  'ebill@airtel.com',\n",
       "  \"Bill for your Airtel Mobile 84205XXXXX - April'24\",\n",
       "  '<Text body not available>',\n",
       "  '1',\n",
       "  'CATEGORY_UPDATES, INBOX')]"
      ]
     },
     "execution_count": 4,
     "metadata": {},
     "output_type": "execute_result"
    }
   ],
   "source": [
    "rows"
   ]
  },
  {
   "cell_type": "code",
   "execution_count": 6,
   "metadata": {},
   "outputs": [
    {
     "data": {
      "text/plain": [
       "('18bb201db84bbc92',\n",
       " '18bb201db84bbc92',\n",
       " 'Thu, 9 Nov 2023 08:25:10 +0530 (IST)',\n",
       " 'ebill@airtel.com',\n",
       " \"Bill for your Airtel Mobile 84205XXXXX - November'23\",\n",
       " '<Text body not available>',\n",
       " '1',\n",
       " 'STARRED, CATEGORY_UPDATES, INBOX')"
      ]
     },
     "execution_count": 6,
     "metadata": {},
     "output_type": "execute_result"
    }
   ],
   "source": [
    "rows[0]"
   ]
  },
  {
   "cell_type": "code",
   "execution_count": 3,
   "metadata": {},
   "outputs": [
    {
     "data": {
      "text/plain": [
       "{'CC': 'Label_124',\n",
       " 'CC/ICICI': 'Label_125',\n",
       " 'CC/ICICI/PLATINUM': 'Label_126',\n",
       " 'CC/ICICI/AMAZON': 'Label_127',\n",
       " 'CC/IDFC': 'Label_128',\n",
       " 'CC/IDFC/Vistara': 'Label_129',\n",
       " 'CC/IDFC/Mayura': 'Label_130',\n",
       " 'CC/IDFC/Ashwa': 'Label_131',\n",
       " 'CC/IDFC/Select': 'Label_132',\n",
       " 'CC/AXIS': 'Label_133',\n",
       " 'CC/AXIS/Vistara': 'Label_134',\n",
       " 'CC/AXIS/MyZone': 'Label_135',\n",
       " 'CC/AXIS/Flipkart': 'Label_136',\n",
       " 'CC/FederalBank': 'Label_137',\n",
       " 'CC/OneCard': 'Label_138',\n",
       " 'CC/SBI': 'Label_139',\n",
       " 'CC/SBI/CashBack': 'Label_140',\n",
       " 'CC/HDFC': 'Label_141',\n",
       " 'CC/HDFC/Gold': 'Label_142',\n",
       " 'CC/HDFC/Swiggy': 'Label_143',\n",
       " 'CC/HDFC/Neu': 'Label_144',\n",
       " 'CC/HSBC': 'Label_145',\n",
       " 'CC/HSBC/Platinum': 'Label_146',\n",
       " 'CC/SC': 'Label_147',\n",
       " 'CC/SC/Smart': 'Label_148',\n",
       " 'CC/AU': 'Label_149',\n",
       " 'CC/YesBank': 'Label_150',\n",
       " 'BankStatements': 'Label_151',\n",
       " 'BankStatements/ICICI': 'Label_152',\n",
       " 'BankStatements/HDFC': 'Label_153',\n",
       " 'AirtelMobileBill': 'Label_154',\n",
       " 'LifeInsuarance': 'Label_155',\n",
       " 'TransactionAlert': 'Label_156',\n",
       " 'TransactionAlert/SBI': 'Label_157',\n",
       " 'TransactionAlert/YesBank': 'Label_158',\n",
       " 'TransactionAlert/HDFC': 'Label_159',\n",
       " 'TransactionAlert/IDFC': 'Label_160',\n",
       " 'CC/IndusInd': 'Label_161',\n",
       " 'LifeInsurance': 'Label_162'}"
      ]
     },
     "execution_count": 3,
     "metadata": {},
     "output_type": "execute_result"
    }
   ],
   "source": [
    "labelMapping"
   ]
  },
  {
   "cell_type": "code",
   "execution_count": 19,
   "metadata": {},
   "outputs": [],
   "source": []
  },
  {
   "cell_type": "code",
   "execution_count": null,
   "metadata": {},
   "outputs": [],
   "source": []
  },
  {
   "cell_type": "code",
   "execution_count": null,
   "metadata": {},
   "outputs": [],
   "source": [
    "# # Query rows where ATTACHMENT is True\n",
    "# cursor.execute('SELECT * FROM emails WHERE attachment = ?', (True,))\n",
    "\n",
    "# # Fetch and print rows\n",
    "# rows = cursor.fetchall()\n",
    "# for row in tqdm(rows):\n",
    "#     SUBJECT = row[4]\n",
    "#     LABEL = row[7]\n",
    "#     ID = row[1]\n",
    "#     if \"Your Axis Bank Vistara Infinite Card Statement ending XX22\" in SUBJECT:\n",
    "#         label_id = 'Label_1918907902078171160'\n",
    "#         if label_id not in LABEL:\n",
    "#             modify_email_labels(service, ID, add_labels=[label_id])\n",
    "#             print(f\"Added {SUBJECT} to Axis\")\n",
    "#     elif \"Ashva Credit Card Statement\" in SUBJECT or \"Mayura Credit Card Statement\" in SUBJECT:\n",
    "#         label_id = 'Label_823850379661185668'\n",
    "#         if label_id not in LABEL:\n",
    "#             modify_email_labels(service, ID, add_labels=[label_id])\n",
    "#             print(f\"Added {SUBJECT} to IDFC\")\n",
    "#     elif \"ICICI Bank Credit Card\" in SUBJECT:\n",
    "#         label_id = 'Label_1534640927017741931'\n",
    "#         if label_id not in LABEL:\n",
    "#             modify_email_labels(service, ID, add_labels=[label_id])\n",
    "#             print(f\"Added {SUBJECT} to ICICI\")\n",
    "#         print(SUBJECT)\n",
    "#     elif \"Bill for your Airtel Mobile 84205XXXXX\" in SUBJECT:\n",
    "#         label_id = 'Label_7189558714106426294'\n",
    "#         if label_id not in LABEL:\n",
    "#             modify_email_labels(service, ID, add_labels=[label_id])\n",
    "#             print(f\"Added {SUBJECT} to AirtelMobileBill\")\n"
   ]
  },
  {
   "cell_type": "code",
   "execution_count": 26,
   "metadata": {},
   "outputs": [],
   "source": [
    "conn.close()"
   ]
  },
  {
   "cell_type": "code",
   "execution_count": null,
   "metadata": {},
   "outputs": [],
   "source": [
    "labels = list_labels(service)\n",
    "# labels"
   ]
  },
  {
   "cell_type": "code",
   "execution_count": null,
   "metadata": {},
   "outputs": [],
   "source": [
    "# for message in messages:\n",
    "#     details = get_email_message_details(service, message['id'])\n",
    "#     if details['has_attachments']:\n",
    "#         SUBJECT = details['subject']\n",
    "#         if \"Your Axis Bank Vistara Infinite Card Statement ending XX22\" in SUBJECT:\n",
    "#             label_id = 'Label_1918907902078171160'\n",
    "#             LABEL = details['label']\n",
    "#             if label_id not in LABEL:\n",
    "#                 modify_email_labels(service, message['id'], add_labels=[label_id])\n",
    "#                 print(f\"Added {SUBJECT} to Axis\")\n",
    "#         elif \"Ashva Credit Card Statement\" in SUBJECT or \"Mayura Credit Card Statement\" in SUBJECT:\n",
    "#             label_id = 'Label_823850379661185668'\n",
    "#             LABEL = details['label']\n",
    "#             if label_id not in LABEL:\n",
    "#                 modify_email_labels(service, message['id'], add_labels=[label_id])\n",
    "#                 print(f\"Added {SUBJECT} to IDFC\")\n",
    "#         elif \"Bill for your Airtel Mobile 84205XXXXX\" in SUBJECT:\n",
    "#             label_id = 'Label_7189558714106426294'\n",
    "#             LABEL = details['label']\n",
    "#             if label_id not in LABEL:\n",
    "#                 modify_email_labels(service, message['id'], add_labels=[label_id])\n",
    "#                 print(f\"Added {SUBJECT} to IDFC\")\n",
    "\n",
    "\n"
   ]
  },
  {
   "cell_type": "code",
   "execution_count": null,
   "metadata": {},
   "outputs": [],
   "source": []
  }
 ],
 "metadata": {
  "kernelspec": {
   "display_name": "EMAIL",
   "language": "python",
   "name": "python3"
  },
  "language_info": {
   "codemirror_mode": {
    "name": "ipython",
    "version": 3
   },
   "file_extension": ".py",
   "mimetype": "text/x-python",
   "name": "python",
   "nbconvert_exporter": "python",
   "pygments_lexer": "ipython3",
   "version": "3.10.16"
  }
 },
 "nbformat": 4,
 "nbformat_minor": 2
}
